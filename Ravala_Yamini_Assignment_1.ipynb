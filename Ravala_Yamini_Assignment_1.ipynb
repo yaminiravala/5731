{
 "cells": [
  {
   "cell_type": "markdown",
   "metadata": {
    "id": "view-in-github"
   },
   "source": [
    "<a href=\"https://colab.research.google.com/github/unt-iialab/INFO5731_Spring2020/blob/master/Assignments/INFO5731_Assignment_One.ipynb\" target=\"_parent\"><img src=\"https://colab.research.google.com/assets/colab-badge.svg\" alt=\"Open In Colab\"/></a>"
   ]
  },
  {
   "cell_type": "markdown",
   "metadata": {
    "id": "Ryk8D1Q4Wsrp"
   },
   "source": [
    "# **INFO5731 Assignment One**"
   ]
  },
  {
   "cell_type": "markdown",
   "metadata": {
    "id": "90_NR8c5XGWc"
   },
   "source": [
    "# Question 1\n",
    "\n",
    "(20 points). Write a Python program to generate 12 random numbers between 1 and 100. Sort the list of numbers in ascending order and print it out. Sort the list of numbers in descending order and print it out. Calculate the average for the group and print it out."
   ]
  },
  {
   "cell_type": "code",
   "execution_count": 18,
   "metadata": {
    "id": "5QX6bJjGWXY9"
   },
   "outputs": [],
   "source": [
    "import random\n",
    "# Generating 12 random numbers between 1 and 100 and storing in a list.\n",
    "random_numbers = [random.randint(1, 100) for _ in range(12)]"
   ]
  },
  {
   "cell_type": "code",
   "execution_count": 19,
   "metadata": {},
   "outputs": [],
   "source": [
    "# Sorting the list into ascending order\n",
    "ascending_sorted = sorted(random_numbers)"
   ]
  },
  {
   "cell_type": "code",
   "execution_count": 21,
   "metadata": {},
   "outputs": [],
   "source": [
    "# Sorting the list into descending order\n",
    "descending_sorted = sorted(random_numbers, reverse=True)"
   ]
  },
  {
   "cell_type": "code",
   "execution_count": 22,
   "metadata": {},
   "outputs": [],
   "source": [
    "# Calculate the average of 12 random numbers \n",
    "avg = sum(random_numbers) / len(random_numbers)"
   ]
  },
  {
   "cell_type": "code",
   "execution_count": 31,
   "metadata": {},
   "outputs": [
    {
     "name": "stdout",
     "output_type": "stream",
     "text": [
      "Random Numbers: [15, 2, 13, 54, 53, 17, 30, 51, 71, 69, 59, 39]\n",
      "Ascending Sorted: [2, 13, 15, 17, 30, 39, 51, 53, 54, 59, 69, 71]\n",
      "Descending Sorted: [71, 69, 59, 54, 53, 51, 39, 30, 17, 15, 13, 2]\n",
      "Average: 39.416666666666664\n"
     ]
    }
   ],
   "source": [
    "# Print the results\n",
    "print(\"Random Numbers:\", random_numbers)\n",
    "print(\"Ascending Sorted:\", ascending_sorted)\n",
    "print(\"Descending Sorted:\", descending_sorted)\n",
    "print(\"Average:\", avg)"
   ]
  },
  {
   "cell_type": "markdown",
   "metadata": {
    "id": "1F_PZdH9Sh49"
   },
   "source": [
    "# Question 2\n",
    "(25 points).\n",
    "\n",
    "Write a program that will do the following string formatting tasks:\n",
    "\n",
    "(1) Ask the user to enter two sentences.\n",
    "\n",
    "(2) Make each sentence into a list. Each element in the list should correspond to a word in the sentence. For example, if the sentence is \"Alas! Am I alive? This is my first python program\", the program should print out ['Alas, '!', 'Am', 'I', 'alive, '?', 'This', 'is', 'my', 'first', 'python', 'program'].\n",
    "\n",
    "(3) Compare the two sentences. Print out a list of words that occur in both sentences.\n",
    "\n",
    "(4) Remove any punctuation from the sentence and print it back out. It should remove at least the following characters, but it can remove more: period(“.”), comma (“,”), semicolon (“;”), and colon (“:”)\n",
    "\n",
    "(5) Count the number of vowels in the sentences. Print out each vowel and the number of times it appears in the sentences, such as: a:2, e:1, i:0, etc"
   ]
  },
  {
   "cell_type": "code",
   "execution_count": 32,
   "metadata": {
    "id": "Y0oOSlsOS0cq"
   },
   "outputs": [
    {
     "name": "stdout",
     "output_type": "stream",
     "text": [
      "Enter 1st sentence: Hello! This is Yamini.\n",
      "Enter 2nd sentence: Nice to meet u all :)\n",
      "Words in 1st sentence: ['Hello', 'This', 'is', 'Yamini']\n",
      "Words in 2nd sentence: ['Nice', 'to', 'meet', 'u', 'all', '']\n",
      "Common words: []\n",
      "Vowels in 1st sentence: {'a': 1, 'e': 1, 'i': 4, 'o': 1, 'u': 0, 'A': 0, 'E': 0, 'I': 0, 'O': 0, 'U': 0}\n",
      "Vowels in 2nd sentence: {'a': 1, 'e': 3, 'i': 1, 'o': 1, 'u': 1, 'A': 0, 'E': 0, 'I': 0, 'O': 0, 'U': 0}\n"
     ]
    }
   ],
   "source": [
    "import string\n",
    "\n",
    "# Defining the functions\n",
    "\n",
    "# Function to split a sentence into a list of words\n",
    "def sent_to_words(sent):\n",
    "    words = sent.split()\n",
    "    for i, word in enumerate(words):\n",
    "        words[i] = ''.join([char for char in word if char not in string.punctuation])\n",
    "    return words\n",
    "\n",
    "# Function to find common words in two sentences\n",
    "def find_common_words(sent1, sent2):\n",
    "    words1 = set(sent_to_words(sent1))\n",
    "    words2 = set(sent_to_words(sent2))\n",
    "    common_words = list(words1.intersection(words2))\n",
    "    return common_words\n",
    "\n",
    "# Function to count vowels in a sentence\n",
    "def count_vowels(sent):\n",
    "    vowels = \"aeiouAEIOU\"\n",
    "    vowel_count = {vowel: 0 for vowel in vowels}\n",
    "    for char in sent:\n",
    "        if char in vowels:\n",
    "            vowel_count[char.lower()] += 1\n",
    "    return vowel_count\n",
    "\n",
    "# We have to enter two sentences\n",
    "sent1 = input(\"Enter 1st sentence: \")\n",
    "sent2 = input(\"Enter 2nd sentence: \")\n",
    "\n",
    "# Convert sentences to lists of words\n",
    "words1 = sent_to_words(sent1)\n",
    "words2 = sent_to_words(sent2)\n",
    "\n",
    "# Print the lists of words\n",
    "print(\"Words in 1st sentence:\", words1)\n",
    "print(\"Words in 2nd sentence:\", words2)\n",
    "\n",
    "# Find and print common words\n",
    "common_words = find_common_words(sent1, sent2)\n",
    "print(\"Common words:\", common_words)\n",
    "\n",
    "# Count and print the vowels\n",
    "v_count1 = count_vowels(sent1)\n",
    "v_count2 = count_vowels(sent2)\n",
    "print(\"Vowels in 1st sentence:\", v_count1)\n",
    "print(\"Vowels in 2nd sentence:\", v_count2)"
   ]
  },
  {
   "cell_type": "markdown",
   "metadata": {
    "id": "CmFoI4jDS9nx"
   },
   "source": [
    "# Question 3\n",
    "\n",
    "(15 points). The formula that describes the volume V of a sphere with radius r is the following:\n",
    "\n",
    "$ V=\\frac{4}{3}\\ast\\ \\pi\\ast\\ r^3 $\n",
    "\n",
    "Write a program to calculate the value of V when r is in the range of 1–10. Output the result in the following format:\n",
    "\n",
    "\tr\tV\n",
    "\t1\t…\n",
    "\t2\t…\n",
    "\t3\t…\n"
   ]
  },
  {
   "cell_type": "code",
   "execution_count": 51,
   "metadata": {
    "id": "pEyqeioAT95b"
   },
   "outputs": [
    {
     "name": "stdout",
     "output_type": "stream",
     "text": [
      "r      V\n",
      "1     4.19\n",
      "2     33.51\n",
      "3     113.10\n",
      "4     268.08\n",
      "5     523.60\n",
      "6     904.78\n",
      "7     1436.76\n",
      "8     2144.66\n",
      "9     3053.63\n",
      "10     4188.79\n"
     ]
    }
   ],
   "source": [
    "import math\n",
    "# Print the header as given in the question.\n",
    "print(\"r      V\")\n",
    "# Calculate & print the volume for each radius from 1 to 10.\n",
    "for r in range(1, 11):\n",
    "# Calculating the volume using the volume formula.\n",
    "    V = (4/3) * math.pi * r**3\n",
    "    print(f\"{r}     {V:.2f}\")"
   ]
  },
  {
   "cell_type": "markdown",
   "metadata": {
    "id": "z3tBE7E-Xn5X"
   },
   "source": [
    "# Question 4\n",
    "\n",
    "(40 points). In the field of Data Science, data is often formatted as a comma-delimited (CSV) file, where each line in a file corresponds to a field's value. Refer to Chapter 9 (p. 106) for more information on comma-delimited files. To answer this question, you will need to download the file [Assignment1_denton_housing.csv](https://raw.githubusercontent.com/unt-iialab/info5731-spring2022/main/assignments/Assignment1_denton_housing.csv) included with this assignment. The file [Assignment1_denton_housing.csv](https://raw.githubusercontent.com/unt-iialab/info5731-spring2022/main/assignments/Assignment1_denton_housing.csv) contains statistics about housing in the city of Denton from 2008 to 2014. Write a program to implement the following questions.\n",
    "\n",
    "(1) (10 pts) Calculate the difference in the number of Occupied Housing Units from year to year and print it. The difference must be calculated for the consecutive years such as 2008-2009, 2009-2010 etc. Finally, print the values in the ascending order.\n",
    "\n",
    "(2) (10 pts) For all the years, calculate the percentage of housing units which are vacant and occupied. Print the results in the following format:\n",
    "\n",
    "Year Vacant Housing Units Occupied Housing Units\n",
    "\n",
    "    2008  30%   70%                          \n",
    "\t2009 ----- -----\n",
    "\t2010 ----- -----\n",
    "    2011 ----- -----\n",
    "\t2012 ----- -----\n",
    "    2013 ----- -----\n",
    "\t2014 ----- -----\n",
    "  \n",
    "  \n",
    "\n",
    "(3) (10 pts) Calculate and print the valued and years in which the highest number of housing units were vacant and occupied. Print the results in the following format:  \n",
    "\n",
    "                              Year\tValue\n",
    "\tVacant Housing Units\t  -----   -----\n",
    "\tOccupied Housing Units\t-----   -----\n",
    "\n",
    "(4) (10 pts) Calculate the harmonic mean of the total housing units and print it out. You can find the information about harmonic mean here: https://ncalculators.com/statistics/harmonic-mean-calculator.htm"
   ]
  },
  {
   "cell_type": "code",
   "execution_count": 70,
   "metadata": {
    "id": "lqGYuHBhcsRH"
   },
   "outputs": [
    {
     "name": "stdout",
     "output_type": "stream",
     "text": [
      "   Year       Difference\n",
      "2008-2009\t-795\n",
      "2009-2010\t5091\n",
      "2010-2011\t-303\n",
      "2011-2012\t1404\n",
      "2012-2013\t1565\n",
      "2013-2014\t2622\n"
     ]
    }
   ],
   "source": [
    "# import necessary libraries.\n",
    "import pandas as pd\n",
    "from scipy.stats import hmean\n",
    "\n",
    "# Read the given CSV file\n",
    "df = pd.read_csv('Assignment1_denton_housing.csv')\n",
    "# Filtering the rows with 'title_field' which has 'Occupied Housing Units'\n",
    "occupied_units = df[df['title_field'] == 'Occupied Housing Units']\n",
    "# Sort the DataFrame by 'year' column in ascending order\n",
    "occupied_units = occupied_units.sort_values(by='year')\n",
    "# Calculate the difference in the Occupied Housing Units from year to year\n",
    "occupied_units['Difference'] = occupied_units['value'].diff()\n",
    "# Print the results \n",
    "print(\"   Year       Difference\")\n",
    "for i in range(1, len(occupied_units)):\n",
    "    y1 = occupied_units.iloc[i - 1]['year']\n",
    "    y2 = occupied_units.iloc[i]['year']\n",
    "    difference = int(occupied_units.iloc[i]['Difference'])\n",
    "    print(f\"{y1}-{y2}\\t{difference}\")"
   ]
  },
  {
   "cell_type": "code",
   "execution_count": 75,
   "metadata": {},
   "outputs": [
    {
     "name": "stdout",
     "output_type": "stream",
     "text": [
      "Year   Vacant Housing Units   Occupied Housing Units\n",
      "2008       11%                    89%\n",
      "2009       9%                    91%\n",
      "2010       8%                    92%\n",
      "2011       9%                    91%\n",
      "2012       7%                    93%\n",
      "2013       9%                    91%\n",
      "2014       6%                    94%\n"
     ]
    }
   ],
   "source": [
    "#2) To calculate the percentage of housing units which are vacant an occupied.\n",
    "# Filter the DataFrame to include only rows with 'title_field' as 'Vacant Housing Units' or 'Occupied Housing Units'\n",
    "housing_units = df[(df['title_field'] == 'Vacant Housing Units') | (df['title_field'] == 'Occupied Housing Units')]\n",
    "# Pivot the DataFrame to have 'year' as columns and 'value' as values\n",
    "housing_units_pivot = housing_units.pivot(index='year', columns='title_field', values='value')\n",
    "# Calculate the percentage of vacant and occupied housing units\n",
    "housing_units_pivot['Percentage Vacant'] = (housing_units_pivot['Vacant Housing Units'] / (housing_units_pivot['Vacant Housing Units'] + housing_units_pivot['Occupied Housing Units'])) * 100\n",
    "housing_units_pivot['Percentage Occupied'] = (housing_units_pivot['Occupied Housing Units'] / (housing_units_pivot['Vacant Housing Units'] + housing_units_pivot['Occupied Housing Units'])) * 100\n",
    "# Print the results in specified format\n",
    "print(\"Year   Vacant Housing Units   Occupied Housing Units\")\n",
    "for year, row in housing_units_pivot.iterrows():\n",
    "    print(f\"{year}       {row['Percentage Vacant']:.0f}%                    {row['Percentage Occupied']:.0f}%\")"
   ]
  },
  {
   "cell_type": "code",
   "execution_count": 82,
   "metadata": {},
   "outputs": [
    {
     "name": "stdout",
     "output_type": "stream",
     "text": [
      "                          Year   Value\n",
      "Vacant Housing Units      2008   4483\n",
      "Occupied Housing Units    2014   46295\n"
     ]
    }
   ],
   "source": [
    "# Finding the years with the highest number of vacant & occupied housing units\n",
    "year_with_highest_vacant = housing_units_pivot['Vacant Housing Units'].idxmax()\n",
    "year_with_highest_occupied = housing_units_pivot['Occupied Housing Units'].idxmax()\n",
    "# Finding out the values for the highest number of vacant & occupied housing units\n",
    "highest_vacant = housing_units_pivot.loc[year_with_highest_vacant, 'Vacant Housing Units']\n",
    "highest_occupied = housing_units_pivot.loc[year_with_highest_occupied, 'Occupied Housing Units']\n",
    "# Print the results in specified format\n",
    "print(\"                          Year   Value\")\n",
    "print(f\"Vacant Housing Units      {year_with_highest_vacant}   {highest_vacant}\")\n",
    "print(f\"Occupied Housing Units    {year_with_highest_occupied}   {highest_occupied}\")"
   ]
  },
  {
   "cell_type": "code",
   "execution_count": 98,
   "metadata": {},
   "outputs": [
    {
     "name": "stdout",
     "output_type": "stream",
     "text": [
      "Harmonic Mean of Total Housing Units: 44398.29\n"
     ]
    }
   ],
   "source": [
    "# harmonic mean of the total housing units and print\n",
    "total_housing_units = df[df['title_field'] == 'Total Housing Units']\n",
    "# Calculate the harmonic mean for total housing units\n",
    "h_mean = hmean(total_housing_units['value'])\n",
    "# Print the harmonic mean\n",
    "print(f\"Harmonic Mean of Total Housing Units: {h_mean:.2f}\")"
   ]
  }
 ],
 "metadata": {
  "colab": {
   "provenance": []
  },
  "kernelspec": {
   "display_name": "Python 3 (ipykernel)",
   "language": "python",
   "name": "python3"
  },
  "language_info": {
   "codemirror_mode": {
    "name": "ipython",
    "version": 3
   },
   "file_extension": ".py",
   "mimetype": "text/x-python",
   "name": "python",
   "nbconvert_exporter": "python",
   "pygments_lexer": "ipython3",
   "version": "3.9.12"
  }
 },
 "nbformat": 4,
 "nbformat_minor": 1
}
