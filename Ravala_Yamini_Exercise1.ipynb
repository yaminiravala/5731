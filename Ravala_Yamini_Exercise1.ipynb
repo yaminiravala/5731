{
  "cells": [
    {
      "cell_type": "markdown",
      "metadata": {
        "id": "view-in-github",
        "colab_type": "text"
      },
      "source": [
        "<a href=\"https://colab.research.google.com/github/yaminiravala/5731/blob/main/Ravala_Yamini_Exercise1.ipynb\" target=\"_parent\"><img src=\"https://colab.research.google.com/assets/colab-badge.svg\" alt=\"Open In Colab\"/></a>"
      ]
    },
    {
      "cell_type": "markdown",
      "metadata": {
        "id": "DymRJbxDBCnf"
      },
      "source": [
        "# **The first In-class-exercise (08/30/2023, 40 points in total)**\n",
        "This exercise is due tomorrow 08/31/203 11:59 PM.\n"
      ]
    },
    {
      "cell_type": "markdown",
      "metadata": {
        "id": "FBKvD6O_TY6e"
      },
      "source": [
        "(1) Write a Python program to calculate the area of a rectangle using user-input length and width."
      ]
    },
    {
      "cell_type": "code",
      "execution_count": null,
      "metadata": {
        "id": "cikVKDXdTbzE",
        "outputId": "2df72fa6-c690-4022-f2eb-292af42e78ee"
      },
      "outputs": [
        {
          "name": "stdout",
          "output_type": "stream",
          "text": [
            "Enter the rectangle's length: 5\n",
            "Enter the rectangle's width: 5\n",
            "The rectangle's area is:25.0\n"
          ]
        }
      ],
      "source": [
        "# Input the length and width from the user.\n",
        "l = float(input(\"Enter the rectangle's length: \"))\n",
        "w = float(input(\"Enter the rectangle's width: \"))\n",
        "# Identify the area.\n",
        "a = l*w\n",
        "# Show the outcome\n",
        "print(f\"The rectangle's area is:{a}\")"
      ]
    },
    {
      "cell_type": "markdown",
      "metadata": {
        "id": "E9RqrlwdTfvl"
      },
      "source": [
        "(2) Create a program that takes two numbers from the user and swaps their values without using a temporary variable."
      ]
    },
    {
      "cell_type": "code",
      "execution_count": null,
      "metadata": {
        "id": "4XvRknixTh1g",
        "outputId": "69ffd8bc-e657-4bd8-889f-2b1b722723db"
      },
      "outputs": [
        {
          "name": "stdout",
          "output_type": "stream",
          "text": [
            "Put the first digit in here:23\n",
            "Put the second digit in here:44\n",
            "After swapping:\n",
            "First digit: 44.0\n",
            "Second digit: 23.0\n"
          ]
        }
      ],
      "source": [
        "# Request two numbers from the user\n",
        "num1 = float(input(\"Put the first digit in here:\"))\n",
        "num2 = float(input(\"Put the second digit in here:\"))\n",
        "# Value swapping without the use of a temporary variable\n",
        "num1 = num1 + num2\n",
        "num2 = num1 - num2\n",
        "num1 = num1 - num2\n",
        "# Show the values that have been switched.\n",
        "print(\"After swapping:\")\n",
        "print(\"First digit:\", num1)\n",
        "print(\"Second digit:\", num2)\n"
      ]
    },
    {
      "cell_type": "markdown",
      "metadata": {
        "id": "03jb4GZsBkBS"
      },
      "source": [
        "(3) Write a Python program to calculate the length of a string."
      ]
    },
    {
      "cell_type": "code",
      "execution_count": null,
      "metadata": {
        "id": "YaGLbSHHB8Ej",
        "outputId": "94c048d4-15d0-4cae-ba63-98628ec6cced"
      },
      "outputs": [
        {
          "name": "stdout",
          "output_type": "stream",
          "text": [
            "Enter a string: yamini\n",
            "The string's length is: 6\n"
          ]
        }
      ],
      "source": [
        "# Input from the user for a string\n",
        "input = input(\"Enter a string: \")\n",
        "# Determine the string's length.\n",
        "length = len(input)\n",
        "# Show the outcome\n",
        "print(f\"The string's length is: {length}\")"
      ]
    },
    {
      "cell_type": "markdown",
      "metadata": {
        "id": "jJDe71iLB616"
      },
      "source": [
        "(4) Write a Python program to count the number of characters in a string.\n",
        "\n",
        "Sample String : 'google.com‘,\n",
        "\n",
        "Expected Result : {'o': 3, 'g': 2, '.': 1, 'e': 1, 'l': 1, 'm': 1, 'c': 1}"
      ]
    },
    {
      "cell_type": "code",
      "execution_count": null,
      "metadata": {
        "id": "MtKskTzbCLaU",
        "outputId": "74f95c84-3988-46c2-8b1c-a4f5b4de801c"
      },
      "outputs": [
        {
          "name": "stdout",
          "output_type": "stream",
          "text": [
            "Character counts:\n",
            "{'g': 2, 'o': 3, 'l': 1, 'e': 1, '.': 1, 'c': 1, 'm': 1}\n"
          ]
        }
      ],
      "source": [
        "# A sample of the string\n",
        "sample_string = 'google.com'\n",
        "# Create a blank dictionary at first to store character counts.\n",
        "char_count = {}\n",
        "# The string's character count\n",
        "for char in sample_string:\n",
        "    if char in char_count:\n",
        "        char_count[char] += 1\n",
        "    else:\n",
        "        char_count[char] = 1\n",
        "# Show the character count on the screen.\n",
        "print(\"Character counts:\")\n",
        "print(char_count)\n"
      ]
    },
    {
      "cell_type": "markdown",
      "metadata": {
        "id": "55W9AMdXCSpV"
      },
      "source": [
        "(5) Write a Python program to sum all the items in a list."
      ]
    },
    {
      "cell_type": "code",
      "execution_count": null,
      "metadata": {
        "id": "I57NXsauCec2",
        "outputId": "7f377ee4-4afd-468a-d58c-f1067398a2fd"
      },
      "outputs": [
        {
          "name": "stdout",
          "output_type": "stream",
          "text": [
            "The total sum comprised of all of the items on the list, is: 28\n"
          ]
        }
      ],
      "source": [
        "# A sample of the numbers listed.\n",
        "numbers = [10, 5, 2, 8, 3]\n",
        "# Create an initial value for a variable that will store the total.\n",
        "total_sum = 0\n",
        "# Determine the total amount comprised of the items on the list.\n",
        "for num in numbers:\n",
        "    total_sum += num\n",
        "# Showcase the outcome here.\n",
        "print(f\"The total sum comprised of all of the items on the list, is: {total_sum}\")"
      ]
    },
    {
      "cell_type": "markdown",
      "metadata": {
        "id": "4ulBZ6yhCi9F"
      },
      "source": [
        "(6) Write a Python program to get a string from a given string where all occurrences of its first char have been changed to '\\$', except the first char itself.\n",
        "\n",
        "Sample String : 'restart‘,\n",
        "\n",
        "Expected Result : 'resta\\$t'"
      ]
    },
    {
      "cell_type": "code",
      "execution_count": null,
      "metadata": {
        "id": "Fj0XhwbBCw2o",
        "outputId": "6447a4d2-20a3-4e19-9ca2-a22714c5fa80"
      },
      "outputs": [
        {
          "name": "stdout",
          "output_type": "stream",
          "text": [
            "Modified string: resta$t\n"
          ]
        }
      ],
      "source": [
        "# A sample of the string\n",
        "sample_string = 'restart'\n",
        "# Obtain the initial character.\n",
        "initial_char = sample_string[0]\n",
        "# Except for the first character, replace all occurrences of the first character with a '$' in the string.\n",
        "modified_string = initial_char + sample_string[1:].replace(initial_char, '$')\n",
        "# Show the edited text in the string\n",
        "print(\"Modified string:\", modified_string)"
      ]
    },
    {
      "cell_type": "markdown",
      "metadata": {
        "id": "qVXA3q7ET5JI"
      },
      "source": [
        "(7) Create a program that calculates the factorial of a number using a while loop."
      ]
    },
    {
      "cell_type": "code",
      "execution_count": null,
      "metadata": {
        "id": "Lbt7R6UkT7BA",
        "outputId": "5744cabf-80aa-4f1b-bd3f-cd912554979e"
      },
      "outputs": [
        {
          "name": "stdout",
          "output_type": "stream",
          "text": [
            "Enter a number: 5\n",
            "The factorial of 5 is: 120\n"
          ]
        }
      ],
      "source": [
        "# Collect the number that was entered by the user.\n",
        "num = int(input(\"Enter a number: \"))\n",
        "# Prepare the variables for use.\n",
        "factorial = 1\n",
        "current_number = 1\n",
        "# Perform the calculation for the factorial inside of a while loop.\n",
        "while current_number <= num:\n",
        "    factorial *= current_number\n",
        "    current_number += 1\n",
        "# Display the factorial\n",
        "print(f\"The factorial of {num} is: {factorial}\")"
      ]
    },
    {
      "cell_type": "markdown",
      "metadata": {
        "id": "6YfbzXMNT--R"
      },
      "source": [
        "(8) Create a program that takes a list of numbers as input and outputs a new list with only the even numbers."
      ]
    },
    {
      "cell_type": "code",
      "execution_count": null,
      "metadata": {
        "id": "54q7wMQPUAKu",
        "outputId": "ae28d237-e839-4975-e6fc-c56e91f781a6"
      },
      "outputs": [
        {
          "name": "stdout",
          "output_type": "stream",
          "text": [
            "Type in the numbers, separating each one with a comma.: 1,2,3\n",
            "List of even numbers: [2]\n"
          ]
        }
      ],
      "source": [
        "# Request the input of the user in the form of a string of numbers that is separated by commas.\n",
        "input_str = input(\"Type in the numbers, separating each one with a comma.: \")\n",
        "# Transform the given string into a list of numerical values.\n",
        "numbers = [int(x) for x in input_str.split(',')]\n",
        "# Make a separate list just to keep track of even numbers.\n",
        "even_numbers = []\n",
        "# Perform an iteration over the list, adding even numbers to the new list after each pass.\n",
        "for num in numbers:\n",
        "    if num % 2 == 0:\n",
        "        even_numbers.append(num)\n",
        "# Present the updated list using only even integers.\n",
        "print(\"List of even numbers:\", even_numbers)"
      ]
    },
    {
      "cell_type": "markdown",
      "metadata": {
        "id": "_bIP7s1MCzue"
      },
      "source": [
        "(9) Write a program with python which could accept two parameter a and b to calculate and output the result of S, where\n",
        "\n",
        "$\\ S=3.14*(1+a/b)^3$\n",
        "\n"
      ]
    },
    {
      "cell_type": "code",
      "execution_count": null,
      "metadata": {
        "id": "w79QilHXD3Mg",
        "outputId": "9578f2b8-fd99-4a11-be3a-bd9d9bc75c39"
      },
      "outputs": [
        {
          "name": "stdout",
          "output_type": "stream",
          "text": [
            "Enter the value of a: 5\n",
            "Enter the value of b: 5\n",
            "The result of S is: 25.12\n"
          ]
        }
      ],
      "source": [
        "# Collect data for the a and b parameters here.\n",
        "a = float(input(\"Enter the value of a: \"))\n",
        "b = float(input(\"Enter the value of b: \"))\n",
        "# Determine what the value of S is by applying the formula.\n",
        "S = 3.14 * (1 + a / b) ** 3\n",
        "# Showcase the outcome here.\n",
        "print(f\"The result of S is: {S}\")"
      ]
    },
    {
      "cell_type": "markdown",
      "metadata": {
        "id": "xCa2bK9aD4Q3"
      },
      "source": [
        "(10) Write a Python program to concatenate following dictionaries to create a new one.\n",
        "\n",
        "Sample Dictionary : dic1={1:10, 2:20}, dic2={3:30, 4:40}, dic3={5:50,6:60},\n",
        "\n",
        "Expected Result : {1: 10, 2: 20, 3: 30, 4: 40, 5: 50, 6: 60}\n"
      ]
    },
    {
      "cell_type": "code",
      "execution_count": null,
      "metadata": {
        "id": "_z4aLqAbEET1",
        "outputId": "d59c87e9-7f6e-4d15-bcde-bde4eb822923"
      },
      "outputs": [
        {
          "name": "stdout",
          "output_type": "stream",
          "text": [
            "Concatenated dictionary: {1: 10, 2: 20, 3: 30, 4: 40, 5: 50, 6: 60}\n"
          ]
        }
      ],
      "source": [
        "# A selection of dictionaries\n",
        "dic1 = {1: 10, 2: 20}\n",
        "dic2 = {3: 30, 4: 40}\n",
        "dic3 = {5: 50, 6: 60}\n",
        "# Creating a new dictionary by concatenating existing ones\n",
        "concatenated_dict = {**dic1, **dic2, **dic3}\n",
        "# Show the concatenated version of the dictionary\n",
        "print(\"Concatenated dictionary:\", concatenated_dict)\n"
      ]
    },
    {
      "cell_type": "markdown",
      "metadata": {
        "id": "bkyZ2xSZUOst"
      },
      "source": [
        "(11) Write a Python function that accepts a tuple of integers and returns the largest and smallest elements."
      ]
    },
    {
      "cell_type": "code",
      "execution_count": null,
      "metadata": {
        "id": "3FdLRBKOUQEd",
        "outputId": "6460211b-6d50-4052-8614-816b4dd5d051"
      },
      "outputs": [
        {
          "name": "stdout",
          "output_type": "stream",
          "text": [
            "The smallest element is: 6\n",
            "The largest element is: 78\n"
          ]
        }
      ],
      "source": [
        "def find_largest_and_smallest(numbers_tuple):\n",
        "    if not numbers_tuple:\n",
        "        return None, None\n",
        "# If the tuple does not include any elements, return None for both the largest and smallest values.\n",
        "    smallest = largest = numbers_tuple[0]\n",
        "# The first element should be used to initialize both the smallest and the largest.\n",
        "    for num in numbers_tuple:\n",
        "        if num < smallest:\n",
        "            smallest = num\n",
        "        elif num > largest:\n",
        "            largest = num\n",
        "    return smallest, largest\n",
        "# Experiment with the function.\n",
        "input_tuple = (12, 45, 23, 6, 78, 34)\n",
        "smallest, largest = find_largest_and_smallest(input_tuple)\n",
        "print(f\"The smallest element is: {smallest}\")\n",
        "print(f\"The largest element is: {largest}\")\n"
      ]
    },
    {
      "cell_type": "markdown",
      "metadata": {
        "id": "O0TVi3gKUTpp"
      },
      "source": [
        "(12) Write a Python program that counts the frequency of each character in a given string and stores it in a dictionary."
      ]
    },
    {
      "cell_type": "code",
      "execution_count": null,
      "metadata": {
        "id": "lAtfSfZXUU-h",
        "outputId": "9b4a95c2-b204-40e3-c2e0-9e0091738e7c"
      },
      "outputs": [
        {
          "name": "stdout",
          "output_type": "stream",
          "text": [
            "Enter a string: test\n",
            "Character frequency:\n",
            "'t': 2\n",
            "'e': 1\n",
            "'s': 1\n"
          ]
        }
      ],
      "source": [
        "def count_character_frequency(input_string):\n",
        "    frequency_dict = {}\n",
        "    for char in input_string:\n",
        "        if char in frequency_dict:\n",
        "            frequency_dict[char] += 1\n",
        "        else:\n",
        "            frequency_dict[char] = 1\n",
        "    return frequency_dict\n",
        "# Obtain the user's input string from them.\n",
        "input_string = input(\"Enter a string: \")\n",
        "# Invoke the function to count the number of occurrences of each character.\n",
        "char_frequency = count_character_frequency(input_string)\n",
        "# The character frequency dictionary should be displayed.\n",
        "print(\"Character frequency:\")\n",
        "for char, count in char_frequency.items():\n",
        "    print(f\"'{char}': {count}\")\n"
      ]
    },
    {
      "cell_type": "markdown",
      "metadata": {
        "id": "0v48Vqa7FrQh"
      },
      "source": [
        "(13) Write a Python program to check whether an element exists within a tuple."
      ]
    },
    {
      "cell_type": "code",
      "execution_count": null,
      "metadata": {
        "id": "7WEmgq-DF2P1",
        "outputId": "f49102c9-0442-427a-d455-39b93bb8838d"
      },
      "outputs": [
        {
          "name": "stdout",
          "output_type": "stream",
          "text": [
            "Enter an element to check: 2\n",
            "The element 2 exists in the tuple.\n"
          ]
        }
      ],
      "source": [
        "def check_element_in_tuple(element, input_tuple):\n",
        "    return element in input_tuple\n",
        "# An example of a tuple\n",
        "sample_tuple = (1, 2, 3, 4, 5)\n",
        "# Request the user's input regarding the component that needs to be checked.\n",
        "element_to_check = int(input(\"Enter an element to check: \"))\n",
        "# Invoke the function to determine whether or not the element is present in the tuple.\n",
        "if check_element_in_tuple(element_to_check, sample_tuple):\n",
        "    print(f\"The element {element_to_check} exists in the tuple.\")\n",
        "else:\n",
        "    print(f\"The element {element_to_check} does not exist in the tuple.\")\n"
      ]
    },
    {
      "cell_type": "markdown",
      "metadata": {
        "id": "vD5PYLMuGga_"
      },
      "source": [
        "(14) Write a Python program to find maximum and the minimum value in a set."
      ]
    },
    {
      "cell_type": "code",
      "execution_count": null,
      "metadata": {
        "id": "t0D5kdJUGjjw"
      },
      "outputs": [],
      "source": [
        "# The sample set\n",
        "sample_set = {5, 10, 2, 8, 15}\n",
        "# Find the maximum value in the set\n",
        "max_value = max(sample_set)\n",
        "# Find the minimum value in the set\n",
        "min_value = min(sample_set)\n",
        "# Display the maximum and minimum values\n",
        "print(\"Maximum value in the set:\", max_value)\n",
        "print(\"Minimum value in the set:\", min_value)\n",
        "\n"
      ]
    },
    {
      "cell_type": "markdown",
      "metadata": {
        "id": "uHkd-y5VhVWC"
      },
      "source": [
        "(15) Write a Python program to randomly divide the students in this class into six groups for term projects, each group should have at least 4 students but no more than 6 students (including 6). Here is the students list:\n",
        "student_list_fall_2023=['sb1826' ,\n",
        " 'lb0582' ,\n",
        " 'ab1820' ,\n",
        " 'sb1883' ,\n",
        " 'mb1296' ,\n",
        " 'sc1622' ,\n",
        " 'tc0469' ,\n",
        " 'ac1770' ,\n",
        " 'mc1453' ,\n",
        " 'ad1187' ,\n",
        " 'sd0926' ,\n",
        " 'sd1268' ,\n",
        " 'ag1609' ,\n",
        " 'sg1638' ,\n",
        " 'mg1299' ,\n",
        " 'vkk0022' ,\n",
        " 'bk0413' ,\n",
        " 'gk0257' ,\n",
        " 'am2807' ,\n",
        " 'gm0558' ,\n",
        " 'pm0658' ,\n",
        " 'am2346' ,\n",
        " 'rm1090' ,\n",
        " 'sm2364' ,\n",
        " 'sm2747' ,\n",
        " 'sm2343' ,\n",
        " 'vm0597' ,\n",
        " 'htn0086' ,\n",
        " 'sp2075' ,\n",
        " 'gp0306' ,\n",
        " 'lp0502' ,\n",
        " 'sr1508' ,\n",
        " 'vr0331' ,\n",
        " 'yr0180' ,\n",
        " 'as2819' ,\n",
        " 'ss2981' ,\n",
        " 'ns0756' ,\n",
        " 'mt0825' ,\n",
        " 'dt0463' ,\n",
        " 'su0137' ,\n",
        " 'dv0310'\n",
        "]"
      ]
    },
    {
      "cell_type": "code",
      "execution_count": null,
      "metadata": {
        "id": "3iGbmcOBhTwy",
        "outputId": "b7a365fb-af7b-4c85-f8b3-7f0f574d0828"
      },
      "outputs": [
        {
          "name": "stdout",
          "output_type": "stream",
          "text": [
            "Group 1: ['mg1299', 'vm0597', 'tc0469', 'gp0306', 'mb1296', 'sg1638']\n",
            "Group 2: ['ss2981', 'sb1883', 'sd1268', 'sp2075', 'mt0825', 'as2819']\n",
            "Group 3: ['lb0582', 'ad1187', 'sm2364', 'bk0413', 'rm1090', 'yr0180']\n",
            "Group 4: ['ag1609', 'gm0558', 'am2346', 'lp0502', 'dt0463', 'htn0086']\n",
            "Group 5: ['am2807', 'pm0658', 'gk0257', 'ab1820', 'sr1508', 'sd0926']\n",
            "Group 6: ['mc1453', 'sm2343', 'vr0331', 'su0137', 'ac1770', 'sb1826']\n",
            "Group 7: ['sc1622', 'vkk0022', 'dv0310', 'ns0756', 'sm2747']\n"
          ]
        }
      ],
      "source": [
        "import random\n",
        "\n",
        "# Student list\n",
        "student_list_fall_2023 = [\n",
        "    'sb1826', 'lb0582', 'ab1820', 'sb1883', 'mb1296', 'sc1622', 'tc0469', 'ac1770', 'mc1453', 'ad1187',\n",
        "    'sd0926', 'sd1268', 'ag1609', 'sg1638', 'mg1299', 'vkk0022', 'bk0413', 'gk0257', 'am2807', 'gm0558',\n",
        "    'pm0658', 'am2346', 'rm1090', 'sm2364', 'sm2747', 'sm2343', 'vm0597', 'htn0086', 'sp2075', 'gp0306',\n",
        "    'lp0502', 'sr1508', 'vr0331', 'yr0180', 'as2819', 'ss2981', 'ns0756', 'mt0825', 'dt0463', 'su0137', 'dv0310'\n",
        "]\n",
        "# Randomize the names of the students on the list.\n",
        "random.shuffle(student_list_fall_2023)\n",
        "# Prepare the variables for use.\n",
        "group_size = 6\n",
        "grouped_students = []\n",
        "group_number = 1\n",
        "# Students should be arranged in groups.\n",
        "while student_list_fall_2023:\n",
        "    group = student_list_fall_2023[:group_size]\n",
        "    student_list_fall_2023 = student_list_fall_2023[group_size:]\n",
        "    grouped_students.append((f\"Group {group_number}\", group))\n",
        "    group_number += 1\n",
        "# Showcase the pupils in their respective groups.\n",
        "for group_name, students in grouped_students:\n",
        "    print(f\"{group_name}: {students}\")\n"
      ]
    },
    {
      "cell_type": "markdown",
      "metadata": {
        "id": "fmZ9vX20Qs3d"
      },
      "source": [
        "(16) Write a Python program to find the duplicate elements in a given array of integers. Return -1 If there are no such elements."
      ]
    },
    {
      "cell_type": "code",
      "execution_count": null,
      "metadata": {
        "id": "W8Jw6sWMQs3d",
        "outputId": "db1f1208-250f-497c-d369-4138655cd03b"
      },
      "outputs": [
        {
          "name": "stdout",
          "output_type": "stream",
          "text": [
            "Enter an array of integers separated by spaces: 1 2 3\n",
            "No duplicate elements found.\n"
          ]
        }
      ],
      "source": [
        "def find_duplicate_elements(arr):\n",
        "    seen = set()\n",
        "    duplicates = set()\n",
        "\n",
        "    for num in arr:\n",
        "        if num in seen:\n",
        "            duplicates.add(num)\n",
        "        else:\n",
        "            seen.add(num)\n",
        "\n",
        "    return list(duplicates) if duplicates else -1\n",
        "# Collect the user's input array in its entirety.\n",
        "input_array = list(map(int, input(\"Enter an array of integers separated by spaces: \").split()))\n",
        "# Invoke the procedure to locate components that are duplicates.\n",
        "duplicate_elements = find_duplicate_elements(input_array)\n",
        "# Display the result\n",
        "if duplicate_elements == -1:\n",
        "    print(\"No duplicate elements found.\")\n",
        "else:\n",
        "    print(\"Duplicate elements:\", duplicate_elements)"
      ]
    },
    {
      "cell_type": "markdown",
      "metadata": {
        "id": "hvq4APMhQs3d"
      },
      "source": [
        "(17) Write a Python program to select all the Sundays of a specified year."
      ]
    },
    {
      "cell_type": "code",
      "execution_count": null,
      "metadata": {
        "id": "ZnoxhSglQs3d",
        "outputId": "cae37947-0529-4f34-e85a-ac4fbd32bd67"
      },
      "outputs": [
        {
          "name": "stdout",
          "output_type": "stream",
          "text": [
            "Enter a year: 2020\n",
            "Sundays in 2020:\n",
            "2020-01-05\n",
            "2020-01-12\n",
            "2020-01-19\n",
            "2020-01-26\n",
            "2020-02-02\n",
            "2020-02-09\n",
            "2020-02-16\n",
            "2020-02-23\n",
            "2020-03-01\n",
            "2020-03-08\n",
            "2020-03-15\n",
            "2020-03-22\n",
            "2020-03-29\n",
            "2020-04-05\n",
            "2020-04-12\n",
            "2020-04-19\n",
            "2020-04-26\n",
            "2020-05-03\n",
            "2020-05-10\n",
            "2020-05-17\n",
            "2020-05-24\n",
            "2020-05-31\n",
            "2020-06-07\n",
            "2020-06-14\n",
            "2020-06-21\n",
            "2020-06-28\n",
            "2020-07-05\n",
            "2020-07-12\n",
            "2020-07-19\n",
            "2020-07-26\n",
            "2020-08-02\n",
            "2020-08-09\n",
            "2020-08-16\n",
            "2020-08-23\n",
            "2020-08-30\n",
            "2020-09-06\n",
            "2020-09-13\n",
            "2020-09-20\n",
            "2020-09-27\n",
            "2020-10-04\n",
            "2020-10-11\n",
            "2020-10-18\n",
            "2020-10-25\n",
            "2020-11-01\n",
            "2020-11-08\n",
            "2020-11-15\n",
            "2020-11-22\n",
            "2020-11-29\n",
            "2020-12-06\n",
            "2020-12-13\n",
            "2020-12-20\n",
            "2020-12-27\n"
          ]
        }
      ],
      "source": [
        "import datetime\n",
        "\n",
        "def find_sundays(year):\n",
        "    sundays = []\n",
        "\n",
        "    for month in range(1, 13):\n",
        "        for day in range(1, 32):\n",
        "            try:\n",
        "                date = datetime.date(year, month, day)\n",
        "                if date.weekday() == 6:  # Sunday has index 6\n",
        "                    sundays.append(date)\n",
        "            except ValueError:\n",
        "                pass\n",
        "    return sundays\n",
        "# Get input year from the user\n",
        "year = int(input(\"Enter a year: \"))\n",
        "# Call the function to find Sundays\n",
        "sundays = find_sundays(year)\n",
        "# Display the Sundays\n",
        "print(f\"Sundays in {year}:\")\n",
        "for sunday in sundays:\n",
        "    print(sunday)"
      ]
    },
    {
      "cell_type": "markdown",
      "metadata": {
        "id": "55FWoSJPVVM6"
      },
      "source": [
        "(18) Build a program that calculates the factorial of a given positive integer. The factorial of a non-negative integer n is the product of all positive integers less than or equal to n."
      ]
    },
    {
      "cell_type": "code",
      "execution_count": null,
      "metadata": {
        "id": "hwtr1wZmVX5A",
        "outputId": "d4c9e239-453c-4fdc-b923-8588079759e4"
      },
      "outputs": [
        {
          "name": "stdout",
          "output_type": "stream",
          "text": [
            "Enter a positive integer: 5\n",
            "The factorial of 5 is: 120\n"
          ]
        }
      ],
      "source": [
        "def factorial(n):\n",
        "    if n == 0 or n == 1:\n",
        "        return 1\n",
        "    else:\n",
        "        return n * factorial(n - 1)\n",
        "# Collect information from the user.\n",
        "num = int(input(\"Enter a positive integer: \"))\n",
        "# Check to see if the input is correct.\n",
        "if num < 0:\n",
        "    print(\"Please enter a positive integer.\")\n",
        "else:\n",
        "    result = factorial(num)\n",
        "    print(f\"The factorial of {num} is: {result}\")"
      ]
    },
    {
      "cell_type": "markdown",
      "metadata": {
        "id": "Q9ecagcaVazW"
      },
      "source": [
        "(19) Write a program that takes a positive integer n as input and prints the count of even numbers from 1 to n. Use a loop to iterate through the numbers and utilize the break statement to optimize the loop."
      ]
    },
    {
      "cell_type": "code",
      "execution_count": null,
      "metadata": {
        "id": "gycgckoAVZjR",
        "outputId": "34bd6eec-ab40-40f0-91f7-6a19bedc54a5"
      },
      "outputs": [
        {
          "name": "stdout",
          "output_type": "stream",
          "text": [
            "Enter a positive integer: 5\n",
            "The count of even numbers from 1 to 5 is: 2\n"
          ]
        }
      ],
      "source": [
        "def count_even_numbers(n):\n",
        "    count = 0\n",
        "    for num in range(1, n + 1):\n",
        "        if num % 2 == 0:\n",
        "            count += 1\n",
        "        if num > n:  # This break statement improves the efficiency of the loop.\n",
        "            break\n",
        "    return count\n",
        "# Get input from the user\n",
        "num = int(input(\"Enter a positive integer: \"))\n",
        "# Verify if the input is appropriate.\n",
        "if num <= 0:\n",
        "    print(\"Please enter a positive integer.\")\n",
        "else:\n",
        "    even_count = count_even_numbers(num)\n",
        "    print(f\"The count of even numbers from 1 to {num} is: {even_count}\")"
      ]
    },
    {
      "cell_type": "markdown",
      "metadata": {
        "id": "cboAr5pEWUf5"
      },
      "source": [
        "(20) Write a Python function called count_vowels that takes a string as input and returns the count of vowels (both lowercase and uppercase) present in the string. Consider the vowels to be 'a', 'e', 'i', 'o', and 'u'. Ignore spaces and other non-alphabetic characters."
      ]
    },
    {
      "cell_type": "code",
      "execution_count": null,
      "metadata": {
        "id": "phs9gciMWWAW",
        "outputId": "0b18332d-1949-44f2-96b1-74781c40ffe3"
      },
      "outputs": [
        {
          "name": "stdout",
          "output_type": "stream",
          "text": [
            "Enter a string: aettt\n",
            "The count of vowels in the string is: 2\n"
          ]
        }
      ],
      "source": [
        "def count_vowels(input_string):\n",
        "    vowels = 'aeiouAEIOU'\n",
        "    vowel_count = 0\n",
        "    for char in input_string:\n",
        "        if char in vowels:\n",
        "            vowel_count += 1\n",
        "    return vowel_count\n",
        "# Collect information from the user.\n",
        "user_input = input(\"Enter a string: \")\n",
        "# Invoke the function to determine the number of vowels.\n",
        "vowel_count = count_vowels(user_input)\n",
        "# Display the result\n",
        "print(f\"The count of vowels in the string is: {vowel_count}\")\n"
      ]
    }
  ],
  "metadata": {
    "colab": {
      "provenance": [],
      "include_colab_link": true
    },
    "kernelspec": {
      "display_name": "Python 3 (ipykernel)",
      "language": "python",
      "name": "python3"
    },
    "language_info": {
      "codemirror_mode": {
        "name": "ipython",
        "version": 3
      },
      "file_extension": ".py",
      "mimetype": "text/x-python",
      "name": "python",
      "nbconvert_exporter": "python",
      "pygments_lexer": "ipython3",
      "version": "3.9.7"
    }
  },
  "nbformat": 4,
  "nbformat_minor": 0
}